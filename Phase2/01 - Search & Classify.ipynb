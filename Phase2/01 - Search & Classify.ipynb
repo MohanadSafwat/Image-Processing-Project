{
 "cells": [
  {
   "cell_type": "code",
   "execution_count": null,
   "metadata": {
    "collapsed": true,
    "deletable": true,
    "editable": true
   },
   "outputs": [],
   "source": [
    "import matplotlib.image as mpimg\n",
    "import matplotlib.pyplot as plt\n",
    "import numpy as np\n",
    "import pickle\n",
    "import cv2\n",
    "from skimage.feature import hog\n",
    "from scipy.ndimage.measurements import label\n",
    "from features import *\n",
    "%matplotlib inline\n",
    "from moviepy.editor import VideoFileClip\n",
    "from IPython.display import HTML"
   ]
  },
  {
   "cell_type": "code",
   "execution_count": 3,
   "metadata": {
    "collapsed": true,
    "deletable": true,
    "editable": true
   },
   "outputs": [],
   "source": [
    "def convert_color(img, conv='RGB2YCrCb'):\n",
    "    if conv == 'RGB2YCrCb':\n",
    "        return cv2.cvtColor(img, cv2.COLOR_RGB2YCrCb)\n",
    "    if conv == 'BGR2YCrCb':\n",
    "        return cv2.cvtColor(img, cv2.COLOR_BGR2YCrCb)\n",
    "    if conv == 'RGB2LUV':\n",
    "        return cv2.cvtColor(img, cv2.COLOR_RGB2LUV)"
   ]
  },
  {
   "cell_type": "code",
   "execution_count": 6,
   "metadata": {
    "collapsed": true,
    "deletable": true,
    "editable": true
   },
   "outputs": [],
   "source": [
    "def draw_labeled_bboxes(img, labels):\n",
    "    box_list = []\n",
    "    \n",
    "    # Iterate through all detected cars\n",
    "    for car_number in range(1, labels[1]+1):\n",
    "        # Find pixels with each car_number label value\n",
    "        nonzero = (labels[0] == car_number).nonzero()\n",
    "        # Identify x and y values of those pixels\n",
    "        nonzeroy = np.array(nonzero[0])\n",
    "        nonzerox = np.array(nonzero[1])\n",
    "        # Define a bounding box based on min/max x and y\n",
    "        bbox = ((np.min(nonzerox), np.min(nonzeroy)), (np.max(nonzerox), np.max(nonzeroy)))\n",
    "        # Draw the box on the image\n",
    "        # could be [0,255] or [0,1] depending how the file was read in\n",
    "        cv2.rectangle(img, bbox[0], bbox[1], (255,0,0), 6)\n",
    "        \n",
    "        box_list.append(bbox)\n",
    "\n",
    "    return img, box_list"
   ]
  },
  {
   "cell_type": "code",
   "execution_count": 8,
   "metadata": {
    "collapsed": true,
    "deletable": true,
    "editable": true
   },
   "outputs": [],
   "source": [
    "def track_vehicles(img):\n",
    "    \n",
    "    global draw_img_prev, bbox_list_prev, labels_prev, heatmap_sum\n",
    "    global first_frame, frame_count\n",
    "    \n",
    "    model_pickle = pickle.load(open(\"00-training.pkl\", 'rb'))\n",
    "    svc = model_pickle['svc']\n",
    "    X_scaler = model_pickle['scaler']\n",
    "    orient = model_pickle['orient']\n",
    "    pix_per_cell = model_pickle['pix_per_cell'] \n",
    "    cell_per_block = model_pickle['cell_per_block']\n",
    "    spatial_size = model_pickle['spatial_size']\n",
    "    hist_bins = model_pickle['hist_bins']\n",
    "    \n",
    "    #this could be changed relative to image size\n",
    "    ystart = 400\n",
    "    ystop = 420\n",
    "    \n",
    "    if first_frame:\n",
    "        \n",
    "        #initialize the running average heatmap\n",
    "        heatmap_sum = np.zeros_like(img[:,:,0]).astype(np.float)\n",
    "        \n",
    "        for scale in (1.0,1.5,2.0):\n",
    "            \n",
    "            #as the image scale gets bigger, the ROI needs to extend\n",
    "            ystop = ystop + 75\n",
    "\n",
    "            heatmap, bboxes = find_cars(img, ystart, ystop, scale, svc, X_scaler, orient, \n",
    "                                        pix_per_cell, cell_per_block, spatial_size, hist_bins)\n",
    "            #sum up heatmap for all scales\n",
    "            heatmap_sum = np.add(heatmap_sum,heatmap)\n",
    "        \n",
    "        heatmap = apply_threshold(heatmap_sum, 2)\n",
    "        heatmap = np.clip(heatmap, 0, 1)\n",
    "        labels = label(heatmap)\n",
    "        draw_img, bbox_list = draw_labeled_bboxes(np.copy(img), labels)\n",
    "\n",
    "        draw_img_prev = draw_img\n",
    "        bbox_list_prev = bbox_list\n",
    "        labels_prev = labels\n",
    "\n",
    "        first_frame = False\n",
    "    \n",
    "        return draw_img\n",
    "    \n",
    "    if frame_count <= 2:\n",
    "        \n",
    "        frame_count += 1\n",
    "        \n",
    "        #reset ROI\n",
    "        ystop = 420\n",
    "        \n",
    "        for scale in (1.0,1.5,2.0):\n",
    "\n",
    "            ystop = ystop + 75\n",
    "            heatmap, bboxes = find_cars(img, ystart, ystop, scale, svc, X_scaler,\n",
    "                                                            orient, pix_per_cell, cell_per_block, spatial_size, hist_bins)\n",
    "            heatmap_sum = np.add(heatmap_sum,heatmap)\n",
    "            draw_img = np.copy(img)\n",
    "        \n",
    "        #draw old boxes\n",
    "        for unique_car in range(1, labels_prev[1]+1):\n",
    "            draw_img = cv2.rectangle(draw_img, bbox_list_prev[unique_car-1][0],\n",
    "                                     bbox_list_prev[unique_car-1][1], (255,0,0), 6)\n",
    "        return draw_img\n",
    "    \n",
    "    heatmap = apply_threshold(heatmap_sum,2)\n",
    "    heatmap = np.clip(heatmap, 0, 255)\n",
    "    labels = label(heatmap)   \n",
    "    draw_img, bbox_list = draw_labeled_bboxes(np.copy(img), labels)   \n",
    "    \n",
    "    draw_img_prev = draw_img\n",
    "    bbox_list_prev = bbox_list\n",
    "    labels_prev = labels\n",
    "    \n",
    "    #reset heatmap sum and frame_count\n",
    "    heatmap_sum = np.zeros_like(img[:,:,0]).astype(np.float)\n",
    "    frame_count = 0\n",
    "    \n",
    "    return draw_img"
   ]
  },
  {
   "cell_type": "code",
   "execution_count": null,
   "metadata": {
    "collapsed": false,
    "deletable": true,
    "editable": true,
    "scrolled": true
   },
   "outputs": [],
   "source": [
    "global first_frame, frame_count\n",
    "frame_count = 0\n",
    "first_frame = True\n",
    "\n",
    "project_video_output = 'combined_pipeline.mp4'\n",
    "clip2 = VideoFileClip('project_video.mp4').subclip(0,30)\n",
    "\n",
    "project_video_clip = clip2.fl_image(track_vehicles)\n",
    "%time project_video_clip.write_videofile(project_video_output, audio=False, verbose=False)"
   ]
  },
  {
   "cell_type": "code",
   "execution_count": null,
   "metadata": {
    "collapsed": false,
    "deletable": true,
    "editable": true
   },
   "outputs": [],
   "source": [
    "video = 'combined_pipeline.mp4'\n",
    "HTML(\"\"\"\n",
    "<video width=\"960\" height=\"540\" controls>\n",
    "  <source src=\"{0}\">\n",
    "</video>\n",
    "\"\"\".format(video))"
   ]
  }
 ],
 "metadata": {
  "interpreter": {
   "hash": "d976ab7367333c8f1c180c08958c2fef7acb7910c7c2d3fcf4fd7435ae268dbd"
  },
  "kernelspec": {
   "display_name": "Python 3.9.0 64-bit",
   "language": "python",
   "name": "python3"
  },
  "language_info": {
   "codemirror_mode": {
    "name": "ipython",
    "version": 3
   },
   "file_extension": ".py",
   "mimetype": "text/x-python",
   "name": "python",
   "nbconvert_exporter": "python",
   "pygments_lexer": "ipython3",
   "version": "3.9.0"
  }
 },
 "nbformat": 4,
 "nbformat_minor": 2
}
